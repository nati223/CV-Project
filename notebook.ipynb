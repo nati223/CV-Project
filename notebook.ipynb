{
 "cells": [
  {
   "cell_type": "code",
   "execution_count": 2,
   "metadata": {},
   "outputs": [],
   "source": [
    "import os\n",
    "\n",
    "import torch\n",
    "from torch import nn\n",
    "from torchvision import transforms\n",
    "\n",
    "from faces_dataset import FacesDataset\n",
    "from models import SimpleNet, get_xception_based_model\n",
    "from utils import load_model, get_nof_params\n",
    "from xcpetion import Xception"
   ]
  },
  {
   "cell_type": "code",
   "execution_count": 3,
   "metadata": {},
   "outputs": [
    {
     "name": "stdout",
     "output_type": "stream",
     "text": [
      "Real images: 1400\n",
      "Fake images: 700\n"
     ]
    }
   ],
   "source": [
    "# Question 9 - check how many real images and how many fake images are in test set of the fakes_dataset\n",
    "\n",
    "real_dir = \"../Assignment4_datasets/fakes_dataset/test/real\"\n",
    "fake_dir = \"../Assignment4_datasets/fakes_dataset/test/fake\"\n",
    "\n",
    "real_images = os.listdir(real_dir)\n",
    "fake_images = os.listdir(fake_dir)\n",
    "\n",
    "print(f\"Real images: {len(real_images)}\")\n",
    "print(f\"Fake images: {len(fake_images)}\")"
   ]
  },
  {
   "cell_type": "code",
   "execution_count": 4,
   "metadata": {},
   "outputs": [
    {
     "name": "stdout",
     "output_type": "stream",
     "text": [
      "Real images: 551\n",
      "Fake images: 552\n"
     ]
    }
   ],
   "source": [
    "# Question 15 - check how many real images and how many fake images are in test set of the synthetic_dataset\n",
    "\n",
    "real_dir = \"../Assignment4_datasets/synthetic_dataset/test/real\"\n",
    "fake_dir = \"../Assignment4_datasets/synthetic_dataset/test/fake\"\n",
    "\n",
    "real_images = os.listdir(real_dir)\n",
    "fake_images = os.listdir(fake_dir)\n",
    "\n",
    "print(f\"Real images: {len(real_images)}\")\n",
    "print(f\"Fake images: {len(fake_images)}\")"
   ]
  },
  {
   "cell_type": "code",
   "execution_count": 5,
   "metadata": {},
   "outputs": [],
   "source": [
    "# Load the xception model\n",
    "model = Xception()"
   ]
  },
  {
   "cell_type": "code",
   "execution_count": 6,
   "metadata": {},
   "outputs": [
    {
     "data": {
      "text/plain": [
       "22855952"
      ]
     },
     "execution_count": 6,
     "metadata": {},
     "output_type": "execute_result"
    }
   ],
   "source": [
    "get_nof_params(model)"
   ]
  },
  {
   "cell_type": "code",
   "execution_count": 7,
   "metadata": {},
   "outputs": [
    {
     "data": {
      "text/plain": [
       "23128786"
      ]
     },
     "execution_count": 7,
     "metadata": {},
     "output_type": "execute_result"
    }
   ],
   "source": [
    "custom_model = get_xception_based_model()\n",
    "get_nof_params(custom_model)"
   ]
  }
 ],
 "metadata": {
  "kernelspec": {
   "display_name": "Python 3",
   "language": "python",
   "name": "python3"
  },
  "language_info": {
   "codemirror_mode": {
    "name": "ipython",
    "version": 3
   },
   "file_extension": ".py",
   "mimetype": "text/x-python",
   "name": "python",
   "nbconvert_exporter": "python",
   "pygments_lexer": "ipython3",
   "version": "3.10.13"
  }
 },
 "nbformat": 4,
 "nbformat_minor": 2
}
